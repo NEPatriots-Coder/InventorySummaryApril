{
 "cells": [
  {
   "cell_type": "code",
   "execution_count": 1,
   "id": "49a7e177",
   "metadata": {},
   "outputs": [],
   "source": [
    "import pandas as pd\n",
    "import numpy as np\n",
    "import os"
   ]
  },
  {
   "cell_type": "code",
   "execution_count": 2,
   "id": "e254a402",
   "metadata": {},
   "outputs": [
    {
     "data": {
      "application/vnd.microsoft.datawrangler.viewer.v0+json": {
       "columns": [
        {
         "name": "index",
         "rawType": "int64",
         "type": "integer"
        },
        {
         "name": "Date",
         "rawType": "object",
         "type": "string"
        },
        {
         "name": "Part",
         "rawType": "object",
         "type": "string"
        },
        {
         "name": "Description",
         "rawType": "object",
         "type": "string"
        },
        {
         "name": "Branch",
         "rawType": "object",
         "type": "string"
        },
        {
         "name": "StartCount",
         "rawType": "float64",
         "type": "float"
        },
        {
         "name": "EndCount",
         "rawType": "float64",
         "type": "float"
        },
        {
         "name": "Difference",
         "rawType": "float64",
         "type": "float"
        },
        {
         "name": "Variance",
         "rawType": "object",
         "type": "string"
        },
        {
         "name": "Planner ",
         "rawType": "object",
         "type": "string"
        }
       ],
       "conversionMethod": "pd.DataFrame",
       "ref": "b82e6b29-ea75-4e24-a5a5-19aa56baea40",
       "rows": [
        [
         "0",
         "3/26/2025",
         "082458P62T     ",
         "22 1/8 X 6 1/4- 5/8 P62 TEMP  ",
         "West Fargo",
         "9.0",
         "0.0",
         "-9.0",
         "-100.00%",
         "01LTEA  "
        ],
        [
         "1",
         "3/26/2025",
         "1502S          ",
         "3 3/4IN STNRY CONE            ",
         "Eden Prarie",
         "1772.0",
         "572.0",
         "-1200.0",
         "-67.72%",
         "02SPRA  "
        ],
        [
         "2",
         "3/26/2025",
         "40660046LNC    ",
         "406X6X46 LHW NO CONES         ",
         "SpringField",
         "25.0",
         "11.0",
         "-14.0",
         "-56.00%",
         "03SPRA  "
        ],
        [
         "3",
         "3/26/2025",
         "SPTAGW         ",
         "SPRING TAGS WIRED             ",
         "SpringField",
         "7231.0",
         "3650.0",
         "-3581.0",
         "-49.52%",
         "03SPRA  "
        ],
        [
         "4",
         "3/26/2025",
         "36260030LNC    ",
         "362X6X30 LHW NO CONES         ",
         "SpringField",
         "30.0",
         "24.0",
         "-6.0",
         "-20.00%",
         "03SPRA  "
        ]
       ],
       "shape": {
        "columns": 9,
        "rows": 5
       }
      },
      "text/html": [
       "<div>\n",
       "<style scoped>\n",
       "    .dataframe tbody tr th:only-of-type {\n",
       "        vertical-align: middle;\n",
       "    }\n",
       "\n",
       "    .dataframe tbody tr th {\n",
       "        vertical-align: top;\n",
       "    }\n",
       "\n",
       "    .dataframe thead th {\n",
       "        text-align: right;\n",
       "    }\n",
       "</style>\n",
       "<table border=\"1\" class=\"dataframe\">\n",
       "  <thead>\n",
       "    <tr style=\"text-align: right;\">\n",
       "      <th></th>\n",
       "      <th>Date</th>\n",
       "      <th>Part</th>\n",
       "      <th>Description</th>\n",
       "      <th>Branch</th>\n",
       "      <th>StartCount</th>\n",
       "      <th>EndCount</th>\n",
       "      <th>Difference</th>\n",
       "      <th>Variance</th>\n",
       "      <th>Planner</th>\n",
       "    </tr>\n",
       "  </thead>\n",
       "  <tbody>\n",
       "    <tr>\n",
       "      <th>0</th>\n",
       "      <td>3/26/2025</td>\n",
       "      <td>082458P62T</td>\n",
       "      <td>22 1/8 X 6 1/4- 5/8 P62 TEMP</td>\n",
       "      <td>West Fargo</td>\n",
       "      <td>9.0</td>\n",
       "      <td>0.0</td>\n",
       "      <td>-9.0</td>\n",
       "      <td>-100.00%</td>\n",
       "      <td>01LTEA</td>\n",
       "    </tr>\n",
       "    <tr>\n",
       "      <th>1</th>\n",
       "      <td>3/26/2025</td>\n",
       "      <td>1502S</td>\n",
       "      <td>3 3/4IN STNRY CONE</td>\n",
       "      <td>Eden Prarie</td>\n",
       "      <td>1772.0</td>\n",
       "      <td>572.0</td>\n",
       "      <td>-1200.0</td>\n",
       "      <td>-67.72%</td>\n",
       "      <td>02SPRA</td>\n",
       "    </tr>\n",
       "    <tr>\n",
       "      <th>2</th>\n",
       "      <td>3/26/2025</td>\n",
       "      <td>40660046LNC</td>\n",
       "      <td>406X6X46 LHW NO CONES</td>\n",
       "      <td>SpringField</td>\n",
       "      <td>25.0</td>\n",
       "      <td>11.0</td>\n",
       "      <td>-14.0</td>\n",
       "      <td>-56.00%</td>\n",
       "      <td>03SPRA</td>\n",
       "    </tr>\n",
       "    <tr>\n",
       "      <th>3</th>\n",
       "      <td>3/26/2025</td>\n",
       "      <td>SPTAGW</td>\n",
       "      <td>SPRING TAGS WIRED</td>\n",
       "      <td>SpringField</td>\n",
       "      <td>7231.0</td>\n",
       "      <td>3650.0</td>\n",
       "      <td>-3581.0</td>\n",
       "      <td>-49.52%</td>\n",
       "      <td>03SPRA</td>\n",
       "    </tr>\n",
       "    <tr>\n",
       "      <th>4</th>\n",
       "      <td>3/26/2025</td>\n",
       "      <td>36260030LNC</td>\n",
       "      <td>362X6X30 LHW NO CONES</td>\n",
       "      <td>SpringField</td>\n",
       "      <td>30.0</td>\n",
       "      <td>24.0</td>\n",
       "      <td>-6.0</td>\n",
       "      <td>-20.00%</td>\n",
       "      <td>03SPRA</td>\n",
       "    </tr>\n",
       "  </tbody>\n",
       "</table>\n",
       "</div>"
      ],
      "text/plain": [
       "        Date             Part                     Description       Branch  \\\n",
       "0  3/26/2025  082458P62T       22 1/8 X 6 1/4- 5/8 P62 TEMP     West Fargo   \n",
       "1  3/26/2025  1502S            3 3/4IN STNRY CONE              Eden Prarie   \n",
       "2  3/26/2025  40660046LNC      406X6X46 LHW NO CONES           SpringField   \n",
       "3  3/26/2025  SPTAGW           SPRING TAGS WIRED               SpringField   \n",
       "4  3/26/2025  36260030LNC      362X6X30 LHW NO CONES           SpringField   \n",
       "\n",
       "   StartCount  EndCount  Difference  Variance  Planner   \n",
       "0         9.0       0.0        -9.0  -100.00%  01LTEA    \n",
       "1      1772.0     572.0     -1200.0   -67.72%  02SPRA    \n",
       "2        25.0      11.0       -14.0   -56.00%  03SPRA    \n",
       "3      7231.0    3650.0     -3581.0   -49.52%  03SPRA    \n",
       "4        30.0      24.0        -6.0   -20.00%  03SPRA    "
      ]
     },
     "execution_count": 2,
     "metadata": {},
     "output_type": "execute_result"
    }
   ],
   "source": [
    "df = pd.read_csv(\"NewSummary.csv\")\n",
    "df.head()"
   ]
  },
  {
   "cell_type": "code",
   "execution_count": 3,
   "id": "e3acc749",
   "metadata": {},
   "outputs": [
    {
     "name": "stdout",
     "output_type": "stream",
     "text": [
      "Locations found: ['West Fargo', 'Eden Prarie', 'SpringField']\n"
     ]
    }
   ],
   "source": [
    "locations = df['Branch'].unique()\n",
    "print(f\"Locations found: {locations.tolist()}\")"
   ]
  },
  {
   "cell_type": "code",
   "execution_count": 5,
   "id": "0d24e6cb",
   "metadata": {},
   "outputs": [],
   "source": [
    "part_counts_by_location = df.groupby('Part')['Branch'].nunique()\n",
    "parts_in_all_locations = part_counts_by_location[part_counts_by_location == len(locations)].index.tolist()"
   ]
  },
  {
   "cell_type": "code",
   "execution_count": 9,
   "id": "00f2b6db",
   "metadata": {},
   "outputs": [
    {
     "name": "stdout",
     "output_type": "stream",
     "text": [
      "\n",
      "Found 422 parts present in all locations.\n"
     ]
    }
   ],
   "source": [
    "\n",
    "part_counts_by_location = df.groupby('Part')['Branch'].nunique()\n",
    "parts_in_all_locations = part_counts_by_location[part_counts_by_location == len(locations)].index.tolist()\n",
    "\n",
    "print(f\"\\nFound {len(parts_in_all_locations)} parts present in all locations.\") # Corrected count after running code\n",
    "\n",
    "# Filter the original dataframe for these parts\n",
    "df_all_locations = df[df['Part'].isin(parts_in_all_locations)]"
   ]
  },
  {
   "cell_type": "code",
   "execution_count": null,
   "id": "ab7f8665",
   "metadata": {},
   "outputs": [
    {
     "name": "stdout",
     "output_type": "stream",
     "text": [
      "\n",
      "Found 422 parts present in all locations.\n"
     ]
    }
   ],
   "source": [
    "print(f\"\\nFound {len(parts_in_all_locations)} parts present in all locations.\") # Corrected count after running code\n",
    "\n",
    "# Filter the original dataframe for these parts\n",
    "df_all_locations = df[df['Part'].isin(parts_in_all_locations)].copy()\n",
    "\n",
    "# Handle duplicates: Keep the last recorded entry for each Part/Branch combo\n",
    "# Sort by Date first (if dates varied significantly, this would be important)\n",
    "# Assuming dates are close enough, just dropping duplicates based on Part/Branch is okay here.\n",
    "df_all_locations_last = df_all_locations.drop_duplicates(subset=['Part', 'Branch'], keep='last')"
   ]
  },
  {
   "cell_type": "code",
   "execution_count": 10,
   "id": "7113ebf8",
   "metadata": {},
   "outputs": [
    {
     "name": "stdout",
     "output_type": "stream",
     "text": [
      "\n",
      "1. Part Variance Matrix (Parts counted in all 3 locations):\n",
      "Branch          Eden Prarie SpringField West Fargo\n",
      "Part                                              \n",
      "1001002BAG        -3000.00%    -100.00%   -173.17%\n",
      "1001004BAG           -0.22%     483.33%    -53.68%\n",
      "1004005BAG          -76.74%    -100.00%      0.53%\n",
      "1004020BAG           -1.52%    2402.86%    339.81%\n",
      "1004A005BAG        -792.68%    -100.00%     -0.04%\n",
      "...                     ...         ...        ...\n",
      "WS12X82TGWB115        7.58%       0.72%      0.16%\n",
      "WS16X82TGWB115        0.73%       5.83%     -1.42%\n",
      "WS16X8RTGWB115      -55.06%    -100.00%    -32.39%\n",
      "WS16X8TSWB115         5.11%      48.09%    -15.10%\n",
      "WS18X8TSWB115         0.46%      -3.57%     -0.23%\n",
      "\n",
      "[422 rows x 3 columns]\n",
      "\n",
      "Saved PartVarianceMatrix.csv\n"
     ]
    }
   ],
   "source": [
    "part_variance_matrix = df_all_locations_last.pivot(index='Part', columns='Branch', values='Variance')\n",
    "\n",
    "print(\"\\n1. Part Variance Matrix (Parts counted in all 3 locations):\")\n",
    "print(part_variance_matrix)\n",
    "# Save to CSV\n",
    "part_variance_matrix.to_csv(\"PartVarianceMatrix.csv\")\n",
    "print(\"\\nSaved PartVarianceMatrix.csv\")"
   ]
  },
  {
   "cell_type": "code",
   "execution_count": 11,
   "id": "f6ea1770",
   "metadata": {},
   "outputs": [
    {
     "name": "stdout",
     "output_type": "stream",
     "text": [
      "\n",
      "2. Total Records (Recounts) by Location:\n",
      "Branch\n",
      "Eden Prarie    1048\n",
      "SpringField    1200\n",
      "West Fargo     1312\n",
      "dtype: int64\n",
      "\n",
      "Saved LocationSummary_TotalRecords.csv\n"
     ]
    }
   ],
   "source": [
    "recounts_by_location = df.groupby('Branch').size()\n",
    "\n",
    "print(\"\\n2. Total Records (Recounts) by Location:\")\n",
    "print(recounts_by_location)\n",
    "\n",
    "# Create a DataFrame for saving\n",
    "location_summary = pd.DataFrame({\n",
    "    'Location': recounts_by_location.index,\n",
    "    'TotalRecords': recounts_by_location.values\n",
    "})\n",
    "# Save to CSV\n",
    "location_summary.to_csv(\"LocationSummary_TotalRecords.csv\", index=False)\n",
    "print(\"\\nSaved LocationSummary_TotalRecords.csv\")\n"
   ]
  },
  {
   "cell_type": "code",
   "execution_count": 16,
   "id": "af1bb6c4",
   "metadata": {},
   "outputs": [
    {
     "name": "stdout",
     "output_type": "stream",
     "text": [
      "\n",
      "3. Analysis and Summary Review:\n",
      "\n",
      "Overall Statistics:\n",
      "Total Records: 3560\n",
      "Date Range: 3/26/2025 to 4/2/2025\n",
      "Number of Unique Parts: 2003\n",
      "Number of Planners: 22\n",
      "\n",
      "Variance Statistics (Overall):\n",
      "count    3.560000e+03\n",
      "mean     4.934024e+03\n",
      "std      2.132441e+05\n",
      "min     -2.183800e+06\n",
      "25%     -1.913500e+01\n",
      "50%     -9.950000e-01\n",
      "75%      5.560000e+00\n",
      "max      9.999973e+06\n",
      "Name: Variance, dtype: float64\n",
      "Median Variance: -0.99%\n",
      "\n",
      "Variance Statistics by Location:\n",
      "                    mean  median            std         min         max  count\n",
      "Branch                                                                        \n",
      "Eden Prarie  7489.094389  -2.425  316246.847225 -2183800.00  9999973.33   1048\n",
      "SpringField    -0.326500  -2.170     341.709024    -3314.29     8559.22   1200\n",
      "West Fargo   7406.208140  -0.095  208663.700772   -12139.47  7142757.14   1312\n",
      "\n",
      "Variance Statistics by Planner:\n",
      "                  mean   median            std         min         max  count\n",
      "Planner                                                                      \n",
      "STOCK      -100.000000 -100.000       0.000000     -100.00     -100.00     24\n",
      "01LAMA      -35.773878  -27.060     139.285308     -828.57      287.56     49\n",
      "02SPRA      -19.419147  -22.830     148.155567     -616.67     1750.00    258\n",
      "03PROA      -14.788421   -2.950     118.377735    -1000.00      280.07    171\n",
      "03HDWA       12.904500   -2.635     550.056341    -3314.29     8559.22    400\n",
      "03SPRA      -13.065657   -2.490     213.583684    -2600.00     1550.00    251\n",
      "01STLA       -8.350345   -2.420      17.550063     -100.00       23.45     87\n",
      "02PROA      -65.866311   -2.250     432.717349    -4262.50      551.50    103\n",
      "02SHPA    56174.214831   -1.660  749530.145639    -2500.00  9999973.33    178\n",
      "03SHPA        1.998280   -1.495     134.091495     -600.00     1350.00    250\n",
      "03TRKA        9.175043   -1.300      79.898964     -282.35      480.85    115\n",
      "01PRSA        1.056377   -0.950      21.427528      -63.40      139.56     69\n",
      "02TRKA       16.697652   -0.930     187.543022     -627.87     1519.09    115\n",
      "01PANA    48567.922549   -0.850  346470.326953     -241.41  2474344.44     51\n",
      "01TG1A       22.124615   -0.735     220.907287     -100.00     1557.14     52\n",
      "01LTEA       -7.528942   -0.670      95.815973     -826.67      216.67    104\n",
      "01TRKA        2.429489   -0.380      81.084537     -100.00      914.29    137\n",
      "01HDWA      -45.728600   -0.355     771.198815   -12139.47      935.86    250\n",
      "02HDWA    -5557.571896   -0.110  111336.743240 -2183800.00    38665.00    385\n",
      "01SHPA    23480.077735    2.250  406364.559238     -538.46  7142757.14    309\n",
      "01SPRA        7.554221    2.780      56.556690     -100.00      614.29    199\n",
      "01BIFA    -1175.976667   90.000    2200.309309    -3716.67       98.74      3\n",
      "\n",
      "Number of records with absolute variance > 50%: 803\n",
      "Percentage of records with absolute variance > 50%: 22.56%\n",
      "\n",
      "Top 10 Largest Absolute Variances:\n",
      "           Date             Part       Branch  StartCount   EndCount  \\\n",
      "2957  3/31/2025  2100C08          Eden Prarie        75.0  7500055.0   \n",
      "3410   4/2/2025  SHRWRP80RL        West Fargo        84.0  6000000.0   \n",
      "2956  3/31/2025  SECBANDR          West Fargo        90.0  2227000.0   \n",
      "545   3/28/2025  RESROPE          Eden Prarie        -1.0    21837.0   \n",
      "3411   4/2/2025  SHRWRP80RL18      West Fargo        22.5    24750.0   \n",
      "2969  3/31/2025  BB3X5            Eden Prarie       100.0    38765.0   \n",
      "3332   4/1/2025  WS20X8RTGWB115   Eden Prarie        -1.0      274.0   \n",
      "2968  3/31/2025  BB3X5            Eden Prarie       100.0    24100.0   \n",
      "1016  3/31/2025             1208   West Fargo       -38.0     4575.0   \n",
      "2955  3/31/2025  DRSTICKERPACKET  SpringField       179.0    15500.0   \n",
      "\n",
      "      Difference    Variance   Planner  \n",
      "2957   7499980.0  9999973.33  02SHPA    \n",
      "3410   5999916.0  7142757.14  01SHPA    \n",
      "2956   2226910.0  2474344.44  01PANA    \n",
      "545      21838.0 -2183800.00  02HDWA    \n",
      "3411     24727.5   109900.00  01SHPA    \n",
      "2969     38665.0    38665.00  02HDWA    \n",
      "3332       275.0   -27500.00  02HDWA    \n",
      "2968     24000.0    24000.00  02HDWA    \n",
      "1016      4613.0   -12139.47  01HDWA    \n",
      "2955     15321.0     8559.22  03HDWA    \n",
      "\n",
      "Number of records with negative StartCount: 138\n",
      "Examples of negative StartCount:\n",
      "          Date             Part       Branch  StartCount\n",
      "83   3/26/2025  2100D09           West Fargo        -8.0\n",
      "101  3/27/2025  E1419WPBFO138    Eden Prarie      -315.0\n",
      "221  3/27/2025  21820033RNC      Eden Prarie        -3.0\n",
      "234  3/27/2025  22520032LNC      Eden Prarie        -2.0\n",
      "235  3/27/2025  22520032RNC      Eden Prarie        -2.0\n",
      "\n",
      "Number of records with potential scientific notation Part numbers: 15\n",
      "Examples of potential scientific notation Part numbers:\n",
      "           Date      Part                     Description       Branch\n",
      "88    3/26/2025  2.10E+10  7FT TERABRONZE VINYL W/S         West Fargo\n",
      "89    3/26/2025  2.10E+11  8FT TERABRONZE VINYL W/S         West Fargo\n",
      "648   3/28/2025  1.60E+30  27  48  90  8FT EXT SPRINGS     Eden Prarie\n",
      "1374  3/31/2025  2.10E+21  18FT TERABRONZE VINYL W/S        West Fargo\n",
      "1679  3/31/2025  2.10E+10  7FT TERABRONZE VINYL W/S        Eden Prarie\n"
     ]
    },
    {
     "name": "stderr",
     "output_type": "stream",
     "text": [
      "<>:52: SyntaxWarning: invalid escape sequence '\\+'\n",
      "<>:52: SyntaxWarning: invalid escape sequence '\\+'\n",
      "C:\\Users\\lamarw\\AppData\\Local\\Temp\\ipykernel_14568\\3366366277.py:52: SyntaxWarning: invalid escape sequence '\\+'\n",
      "  scientific_parts = df[df['Part'].str.contains('E\\+', na=False)]\n"
     ]
    }
   ],
   "source": [
    "print(\"\\n3. Analysis and Summary Review:\")\n",
    "\n",
    "# Ensure column names are stripped of leading/trailing spaces\n",
    "df.columns = df.columns.str.strip()\n",
    "\n",
    "# Overall Statistics\n",
    "print(\"\\nOverall Statistics:\")\n",
    "print(f\"Total Records: {len(df)}\")\n",
    "print(f\"Date Range: {df['Date'].min()} to {df['Date'].max()}\")\n",
    "print(f\"Number of Unique Parts: {df['Part'].nunique()}\")\n",
    "print(f\"Number of Planners: {df['Planner'].nunique()}\")\n",
    "\n",
    "# Variance Analysis\n",
    "print(\"\\nVariance Statistics (Overall):\")\n",
    "# Convert 'Variance' column to numeric by removing '%' and converting to float\n",
    "df['Variance'] = df['Variance'].str.rstrip('%').astype(float)\n",
    "\n",
    "# Use the provided 'Variance' column, handling potential non-finite values if any snuck in\n",
    "valid_variance = df['Variance'].replace([np.inf, -np.inf], np.nan).dropna()\n",
    "print(valid_variance.describe())\n",
    "print(f\"Median Variance: {valid_variance.median():.2f}%\") # Median often better for skewed data\n",
    "\n",
    "# Variance by Location\n",
    "print(\"\\nVariance Statistics by Location:\")\n",
    "variance_by_location = df.groupby('Branch')['Variance'].agg(['mean', 'median', 'std', 'min', 'max', 'count'])\n",
    "print(variance_by_location)\n",
    "\n",
    "# Variance by Planner\n",
    "print(\"\\nVariance Statistics by Planner:\")\n",
    "variance_by_planner = df.groupby('Planner')['Variance'].agg(['mean', 'median', 'std', 'min', 'max', 'count'])\n",
    "print(variance_by_planner.sort_values(by='median')) # Sort to see potential patterns\n",
    "\n",
    "# Significant Variances (Absolute value > 50%)\n",
    "threshold = 50\n",
    "significant_variances = df[df['Variance'].abs() > threshold].copy()\n",
    "significant_variances['AbsVariance'] = significant_variances['Variance'].abs()\n",
    "significant_variances_sorted = significant_variances.sort_values(by='AbsVariance', ascending=False)\n",
    "\n",
    "print(f\"\\nNumber of records with absolute variance > {threshold}%: {len(significant_variances)}\")\n",
    "print(f\"Percentage of records with absolute variance > {threshold}%: {(len(significant_variances) / len(df) * 100):.2f}%\")\n",
    "\n",
    "print(\"\\nTop 10 Largest Absolute Variances:\")\n",
    "print(significant_variances_sorted[['Date', 'Part', 'Branch', 'StartCount', 'EndCount', 'Difference', 'Variance', 'Planner']].head(10))\n",
    "\n",
    "# Data Quality Notes\n",
    "negative_start = df[df['StartCount'] < 0]\n",
    "print(f\"\\nNumber of records with negative StartCount: {len(negative_start)}\")\n",
    "if len(negative_start) > 0:\n",
    "    print(\"Examples of negative StartCount:\")\n",
    "    print(negative_start[['Date', 'Part', 'Branch', 'StartCount']].head())\n",
    "\n",
    "scientific_parts = df[df['Part'].str.contains('E\\+', na=False)]\n",
    "print(f\"\\nNumber of records with potential scientific notation Part numbers: {len(scientific_parts)}\")\n",
    "if len(scientific_parts) > 0:\n",
    "     print(\"Examples of potential scientific notation Part numbers:\")\n",
    "     print(scientific_parts[['Date', 'Part', 'Description', 'Branch']].head())"
   ]
  },
  {
   "cell_type": "code",
   "execution_count": null,
   "metadata": {},
   "outputs": [],
   "source": []
  }
 ],
 "metadata": {
  "kernelspec": {
   "display_name": ".dashboard",
   "language": "python",
   "name": "python3"
  },
  "language_info": {
   "codemirror_mode": {
    "name": "ipython",
    "version": 3
   },
   "file_extension": ".py",
   "mimetype": "text/x-python",
   "name": "python",
   "nbconvert_exporter": "python",
   "pygments_lexer": "ipython3",
   "version": "3.13.2"
  }
 },
 "nbformat": 4,
 "nbformat_minor": 5
}
