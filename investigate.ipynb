{
 "cells": [
  {
   "cell_type": "code",
   "id": "49a7e177",
   "metadata": {
    "ExecuteTime": {
     "end_time": "2025-04-06T12:57:57.923643Z",
     "start_time": "2025-04-06T12:57:57.388855Z"
    }
   },
   "source": [
    "import pandas as pd\n",
    "import numpy as np\n",
    "import os"
   ],
   "outputs": [],
   "execution_count": 1
  },
  {
   "cell_type": "code",
   "id": "e254a402",
   "metadata": {
    "ExecuteTime": {
     "end_time": "2025-04-06T13:00:53.990812Z",
     "start_time": "2025-04-06T13:00:53.956189Z"
    }
   },
   "source": [
    "df = pd.read_csv(\"NewSummary.csv\")\n",
    "df.head()"
   ],
   "outputs": [
    {
     "data": {
      "text/plain": [
       "        Date             Part                     Description       Branch  \\\n",
       "0  3/26/2025  082458P62T       22 1/8 X 6 1/4- 5/8 P62 TEMP     West Fargo   \n",
       "1  3/26/2025  1502S            3 3/4IN STNRY CONE              Eden Prarie   \n",
       "2  3/26/2025  40660046LNC      406X6X46 LHW NO CONES           SpringField   \n",
       "3  3/26/2025  SPTAGW           SPRING TAGS WIRED               SpringField   \n",
       "4  3/26/2025  36260030LNC      362X6X30 LHW NO CONES           SpringField   \n",
       "\n",
       "   StartCount  EndCount  Difference  Variance  Planner   \n",
       "0         9.0       0.0        -9.0     -1.00  01LTEA    \n",
       "1      1772.0     572.0     -1200.0     -0.68  02SPRA    \n",
       "2        25.0      11.0       -14.0     -0.56  03SPRA    \n",
       "3      7231.0    3650.0     -3581.0     -0.50  03SPRA    \n",
       "4        30.0      24.0        -6.0     -0.20  03SPRA    "
      ],
      "text/html": [
       "<div>\n",
       "<style scoped>\n",
       "    .dataframe tbody tr th:only-of-type {\n",
       "        vertical-align: middle;\n",
       "    }\n",
       "\n",
       "    .dataframe tbody tr th {\n",
       "        vertical-align: top;\n",
       "    }\n",
       "\n",
       "    .dataframe thead th {\n",
       "        text-align: right;\n",
       "    }\n",
       "</style>\n",
       "<table border=\"1\" class=\"dataframe\">\n",
       "  <thead>\n",
       "    <tr style=\"text-align: right;\">\n",
       "      <th></th>\n",
       "      <th>Date</th>\n",
       "      <th>Part</th>\n",
       "      <th>Description</th>\n",
       "      <th>Branch</th>\n",
       "      <th>StartCount</th>\n",
       "      <th>EndCount</th>\n",
       "      <th>Difference</th>\n",
       "      <th>Variance</th>\n",
       "      <th>Planner</th>\n",
       "    </tr>\n",
       "  </thead>\n",
       "  <tbody>\n",
       "    <tr>\n",
       "      <th>0</th>\n",
       "      <td>3/26/2025</td>\n",
       "      <td>082458P62T</td>\n",
       "      <td>22 1/8 X 6 1/4- 5/8 P62 TEMP</td>\n",
       "      <td>West Fargo</td>\n",
       "      <td>9.0</td>\n",
       "      <td>0.0</td>\n",
       "      <td>-9.0</td>\n",
       "      <td>-1.00</td>\n",
       "      <td>01LTEA</td>\n",
       "    </tr>\n",
       "    <tr>\n",
       "      <th>1</th>\n",
       "      <td>3/26/2025</td>\n",
       "      <td>1502S</td>\n",
       "      <td>3 3/4IN STNRY CONE</td>\n",
       "      <td>Eden Prarie</td>\n",
       "      <td>1772.0</td>\n",
       "      <td>572.0</td>\n",
       "      <td>-1200.0</td>\n",
       "      <td>-0.68</td>\n",
       "      <td>02SPRA</td>\n",
       "    </tr>\n",
       "    <tr>\n",
       "      <th>2</th>\n",
       "      <td>3/26/2025</td>\n",
       "      <td>40660046LNC</td>\n",
       "      <td>406X6X46 LHW NO CONES</td>\n",
       "      <td>SpringField</td>\n",
       "      <td>25.0</td>\n",
       "      <td>11.0</td>\n",
       "      <td>-14.0</td>\n",
       "      <td>-0.56</td>\n",
       "      <td>03SPRA</td>\n",
       "    </tr>\n",
       "    <tr>\n",
       "      <th>3</th>\n",
       "      <td>3/26/2025</td>\n",
       "      <td>SPTAGW</td>\n",
       "      <td>SPRING TAGS WIRED</td>\n",
       "      <td>SpringField</td>\n",
       "      <td>7231.0</td>\n",
       "      <td>3650.0</td>\n",
       "      <td>-3581.0</td>\n",
       "      <td>-0.50</td>\n",
       "      <td>03SPRA</td>\n",
       "    </tr>\n",
       "    <tr>\n",
       "      <th>4</th>\n",
       "      <td>3/26/2025</td>\n",
       "      <td>36260030LNC</td>\n",
       "      <td>362X6X30 LHW NO CONES</td>\n",
       "      <td>SpringField</td>\n",
       "      <td>30.0</td>\n",
       "      <td>24.0</td>\n",
       "      <td>-6.0</td>\n",
       "      <td>-0.20</td>\n",
       "      <td>03SPRA</td>\n",
       "    </tr>\n",
       "  </tbody>\n",
       "</table>\n",
       "</div>"
      ]
     },
     "execution_count": 3,
     "metadata": {},
     "output_type": "execute_result"
    }
   ],
   "execution_count": 3
  },
  {
   "cell_type": "code",
   "id": "e3acc749",
   "metadata": {
    "ExecuteTime": {
     "end_time": "2025-04-06T13:02:55.118583Z",
     "start_time": "2025-04-06T13:02:55.111642Z"
    }
   },
   "source": [
    "locations = df['Branch'].unique()\n",
    "print(f\"Locations found: {locations.tolist()}\")"
   ],
   "outputs": [
    {
     "name": "stdout",
     "output_type": "stream",
     "text": [
      "Locations found: ['West Fargo', 'Eden Prarie', 'SpringField']\n"
     ]
    }
   ],
   "execution_count": 4
  },
  {
   "cell_type": "code",
   "id": "0d24e6cb",
   "metadata": {
    "ExecuteTime": {
     "end_time": "2025-04-06T13:02:56.845893Z",
     "start_time": "2025-04-06T13:02:56.838604Z"
    }
   },
   "source": [
    "part_counts_by_location = df.groupby('Part')['Branch'].nunique()\n",
    "parts_in_all_locations = part_counts_by_location[part_counts_by_location == len(locations)].index.tolist()"
   ],
   "outputs": [],
   "execution_count": 5
  },
  {
   "cell_type": "code",
   "id": "00f2b6db",
   "metadata": {
    "ExecuteTime": {
     "end_time": "2025-04-06T13:03:01.695131Z",
     "start_time": "2025-04-06T13:03:01.686485Z"
    }
   },
   "source": [
    "\n",
    "part_counts_by_location = df.groupby('Part')['Branch'].nunique()\n",
    "parts_in_all_locations = part_counts_by_location[part_counts_by_location == len(locations)].index.tolist()\n",
    "\n",
    "print(f\"\\nFound {len(parts_in_all_locations)} parts present in all locations.\") # Corrected count after running code\n",
    "\n",
    "# Filter the original dataframe for these parts\n",
    "df_all_locations = df[df['Part'].isin(parts_in_all_locations)]"
   ],
   "outputs": [
    {
     "name": "stdout",
     "output_type": "stream",
     "text": [
      "\n",
      "Found 422 parts present in all locations.\n"
     ]
    }
   ],
   "execution_count": 6
  },
  {
   "cell_type": "code",
   "id": "ab7f8665",
   "metadata": {
    "ExecuteTime": {
     "end_time": "2025-04-06T13:03:05.822464Z",
     "start_time": "2025-04-06T13:03:05.812782Z"
    }
   },
   "source": [
    "print(f\"\\nFound {len(parts_in_all_locations)} parts present in all locations.\") # Corrected count after running code\n",
    "\n",
    "# Filter the original dataframe for these parts\n",
    "df_all_locations = df[df['Part'].isin(parts_in_all_locations)].copy()\n",
    "\n",
    "# Handle duplicates: Keep the last recorded entry for each Part/Branch combo\n",
    "# Sort by Date first (if dates varied significantly, this would be important)\n",
    "# Assuming dates are close enough, just dropping duplicates based on Part/Branch is okay here.\n",
    "df_all_locations_last = df_all_locations.drop_duplicates(subset=['Part', 'Branch'], keep='last')"
   ],
   "outputs": [
    {
     "name": "stdout",
     "output_type": "stream",
     "text": [
      "\n",
      "Found 422 parts present in all locations.\n"
     ]
    }
   ],
   "execution_count": 7
  },
  {
   "cell_type": "code",
   "id": "7113ebf8",
   "metadata": {
    "ExecuteTime": {
     "end_time": "2025-04-06T13:03:08.458646Z",
     "start_time": "2025-04-06T13:03:08.432646Z"
    }
   },
   "source": [
    "part_variance_matrix = df_all_locations_last.pivot(index='Part', columns='Branch', values='Variance')\n",
    "\n",
    "print(\"\\n1. Part Variance Matrix (Parts counted in all 3 locations):\")\n",
    "print(part_variance_matrix)\n",
    "# Save to CSV\n",
    "part_variance_matrix.to_csv(\"PartVarianceMatrix.csv\")\n",
    "print(\"\\nSaved PartVarianceMatrix.csv\")"
   ],
   "outputs": [
    {
     "name": "stdout",
     "output_type": "stream",
     "text": [
      "\n",
      "1. Part Variance Matrix (Parts counted in all 3 locations):\n",
      "Branch           Eden Prarie  SpringField  West Fargo\n",
      "Part                                                 \n",
      "1001002BAG            -30.00        -1.00       -1.73\n",
      "1001004BAG              0.00         4.83       -0.54\n",
      "1004005BAG             -0.77        -1.00        0.01\n",
      "1004020BAG             -0.02        24.03        3.40\n",
      "1004A005BAG            -7.93        -1.00        0.00\n",
      "...                      ...          ...         ...\n",
      "WS12X82TGWB115          0.08         0.01        0.00\n",
      "WS16X82TGWB115          0.01         0.06       -0.01\n",
      "WS16X8RTGWB115         -0.55        -1.00       -0.32\n",
      "WS16X8TSWB115           0.05         0.48       -0.15\n",
      "WS18X8TSWB115           0.00        -0.04        0.00\n",
      "\n",
      "[422 rows x 3 columns]\n",
      "\n",
      "Saved PartVarianceMatrix.csv\n"
     ]
    }
   ],
   "execution_count": 8
  },
  {
   "cell_type": "code",
   "id": "f6ea1770",
   "metadata": {
    "ExecuteTime": {
     "end_time": "2025-04-06T13:03:15.566420Z",
     "start_time": "2025-04-06T13:03:15.550657Z"
    }
   },
   "source": [
    "recounts_by_location = df.groupby('Branch').size()\n",
    "\n",
    "print(\"\\n2. Total Records (Recounts) by Location:\")\n",
    "print(recounts_by_location)\n",
    "\n",
    "# Create a DataFrame for saving\n",
    "location_summary = pd.DataFrame({\n",
    "    'Location': recounts_by_location.index,\n",
    "    'TotalRecords': recounts_by_location.values\n",
    "})\n",
    "# Save to CSV\n",
    "location_summary.to_csv(\"LocationSummary_TotalRecords.csv\", index=False)\n",
    "print(\"\\nSaved LocationSummary_TotalRecords.csv\")\n"
   ],
   "outputs": [
    {
     "name": "stdout",
     "output_type": "stream",
     "text": [
      "\n",
      "2. Total Records (Recounts) by Location:\n",
      "Branch\n",
      "Eden Prarie    1048\n",
      "SpringField    1200\n",
      "West Fargo     1312\n",
      "dtype: int64\n",
      "\n",
      "Saved LocationSummary_TotalRecords.csv\n"
     ]
    }
   ],
   "execution_count": 9
  },
  {
   "cell_type": "code",
   "id": "af1bb6c4",
   "metadata": {
    "ExecuteTime": {
     "end_time": "2025-04-06T13:09:37.917327Z",
     "start_time": "2025-04-06T13:09:37.879753Z"
    }
   },
   "source": [
    "print(\"\\n3. Analysis and Summary Review:\")\n",
    "\n",
    "# Ensure column names are stripped of leading/trailing spaces\n",
    "df.columns = df.columns.str.strip()\n",
    "\n",
    "# Overall Statistics\n",
    "print(\"\\nOverall Statistics:\")\n",
    "print(f\"Total Records: {len(df)}\")\n",
    "print(f\"Date Range: {df['Date'].min()} to {df['Date'].max()}\")\n",
    "print(f\"Number of Unique Parts: {df['Part'].nunique()}\")\n",
    "print(f\"Number of Planners: {df['Planner'].nunique()}\")\n",
    "\n",
    "# Variance Analysis\n",
    "print(\"\\nVariance Statistics (Overall):\")\n",
    "# Convert 'Variance' column to numeric by removing '%' and converting to float\n",
    "#df['Variance'] = df['Variance'].str.rstrip('%').astype(float)\n",
    "\n",
    "# Use the provided 'Variance' column, handling potential non-finite values if any snuck in\n",
    "valid_variance = df['Variance'].replace([np.inf, -np.inf], np.nan).dropna()\n",
    "print(valid_variance.describe())\n",
    "print(f\"Median Variance: {valid_variance.median():.2f}%\") # Median often better for skewed data\n",
    "\n",
    "# Variance by Location\n",
    "print(\"\\nVariance Statistics by Location:\")\n",
    "variance_by_location = df.groupby('Branch')['Variance'].agg(['mean', 'median', 'std', 'min', 'max', 'count'])\n",
    "print(variance_by_location)\n",
    "\n",
    "# Variance by Planner\n",
    "print(\"\\nVariance Statistics by Planner:\")\n",
    "variance_by_planner = df.groupby('Planner')['Variance'].agg(['mean', 'median', 'std', 'min', 'max', 'count'])\n",
    "print(variance_by_planner.sort_values(by='median')) # Sort to see potential patterns\n",
    "\n",
    "# Significant Variances (Absolute value > 50%)\n",
    "threshold = 50\n",
    "significant_variances = df[df['Variance'].abs() > threshold].copy()\n",
    "significant_variances['AbsVariance'] = significant_variances['Variance'].abs()\n",
    "significant_variances_sorted = significant_variances.sort_values(by='AbsVariance', ascending=False)\n",
    "\n",
    "print(f\"\\nNumber of records with absolute variance > {threshold}%: {len(significant_variances)}\")\n",
    "print(f\"Percentage of records with absolute variance > {threshold}%: {(len(significant_variances) / len(df) * 100):.2f}%\")\n",
    "\n",
    "print(\"\\nTop 10 Largest Absolute Variances:\")\n",
    "print(significant_variances_sorted[['Date', 'Part', 'Branch', 'StartCount', 'EndCount', 'Difference', 'Variance', 'Planner']].head(10))\n",
    "\n",
    "# Data Quality Notes\n",
    "negative_start = df[df['StartCount'] < 0]\n",
    "print(f\"\\nNumber of records with negative StartCount: {len(negative_start)}\")\n",
    "if len(negative_start) > 0:\n",
    "    print(\"Examples of negative StartCount:\")\n",
    "    print(negative_start[['Date', 'Part', 'Branch', 'StartCount']].head())\n",
    "\n",
    "scientific_parts = df[df['Part'].str.contains(r'E\\+', na=False)]\n",
    "print(f\"\\nNumber of records with potential scientific notation Part numbers: {len(scientific_parts)}\")\n",
    "if len(scientific_parts) > 0:\n",
    "     print(\"Examples of potential scientific notation Part numbers:\")\n",
    "     print(scientific_parts[['Date', 'Part', 'Description', 'Branch']].head())"
   ],
   "outputs": [
    {
     "name": "stdout",
     "output_type": "stream",
     "text": [
      "\n",
      "3. Analysis and Summary Review:\n",
      "\n",
      "Overall Statistics:\n",
      "Total Records: 3560\n",
      "Date Range: 3/26/2025 to 4/2/2025\n",
      "Number of Unique Parts: 2003\n",
      "Number of Planners: 22\n",
      "\n",
      "Variance Statistics (Overall):\n",
      "count     3560.000000\n",
      "mean        49.340185\n",
      "std       2132.440468\n",
      "min     -21838.000000\n",
      "25%         -0.190000\n",
      "50%         -0.010000\n",
      "75%          0.060000\n",
      "max      99999.730000\n",
      "Name: Variance, dtype: float64\n",
      "Median Variance: -0.01%\n",
      "\n",
      "Variance Statistics by Location:\n",
      "                  mean  median          std       min       max  count\n",
      "Branch                                                                \n",
      "Eden Prarie  74.890773  -0.025  3162.468377 -21838.00  99999.73   1048\n",
      "SpringField  -0.003308  -0.020     3.417024    -33.14     85.59   1200\n",
      "West Fargo   74.062119   0.000  2086.636930   -121.39  71427.57   1312\n",
      "\n",
      "Variance Statistics by Planner:\n",
      "                mean  median          std       min       max  count\n",
      "Planner                                                             \n",
      "STOCK      -1.000000  -1.000     0.000000     -1.00     -1.00     24\n",
      "01LAMA     -0.357347  -0.270     1.393804     -8.29      2.88     49\n",
      "02SPRA     -0.194109  -0.230     1.481636     -6.17     17.50    258\n",
      "03HDWA      0.128750  -0.030     5.500439    -33.14     85.59    400\n",
      "03PROA     -0.148070  -0.030     1.183732    -10.00      2.80    171\n",
      "03SPRA     -0.130359  -0.020     2.135783    -26.00     15.50    251\n",
      "01STLA     -0.083448  -0.020     0.175584     -1.00      0.23     87\n",
      "02PROA     -0.658835  -0.020     4.327727    -42.63      5.52    103\n",
      "02SHPA    561.742022  -0.015  7495.301217    -25.00  99999.73    178\n",
      "03SHPA      0.020200  -0.015     1.341066     -6.00     13.50    250\n",
      "03TRKA      0.091478  -0.010     0.799111     -2.82      4.81    115\n",
      "01LTEA     -0.075192  -0.010     0.958575     -8.27      2.17    104\n",
      "02TRKA      0.166087  -0.010     1.875548     -6.28     15.19    115\n",
      "01PANA    485.678627  -0.010  3464.702726     -2.41  24743.44     51\n",
      "01PRSA      0.010290  -0.010     0.214682     -0.63      1.40     69\n",
      "01TG1A      0.221731  -0.005     2.208814     -1.00     15.57     52\n",
      "01HDWA     -0.457280   0.000     7.711691   -121.39      9.36    250\n",
      "02HDWA    -55.575870   0.000  1113.367424 -21838.00    386.65    385\n",
      "01TRKA      0.024307   0.000     0.810657     -1.00      9.14    137\n",
      "01SHPA    234.800809   0.020  4063.645511     -5.38  71427.57    309\n",
      "01SPRA      0.075678   0.030     0.565374     -1.00      6.14    199\n",
      "01BIFA    -11.760000   0.900    22.005752    -37.17      0.99      3\n",
      "\n",
      "Number of records with absolute variance > 50%: 11\n",
      "Percentage of records with absolute variance > 50%: 0.31%\n",
      "\n",
      "Top 10 Largest Absolute Variances:\n",
      "           Date             Part       Branch  StartCount   EndCount  \\\n",
      "2957  3/31/2025  2100C08          Eden Prarie        75.0  7500055.0   \n",
      "3410   4/2/2025  SHRWRP80RL        West Fargo        84.0  6000000.0   \n",
      "2956  3/31/2025  SECBANDR          West Fargo        90.0  2227000.0   \n",
      "545   3/28/2025  RESROPE          Eden Prarie        -1.0    21837.0   \n",
      "3411   4/2/2025  SHRWRP80RL18      West Fargo        22.5    24750.0   \n",
      "2969  3/31/2025  BB3X5            Eden Prarie       100.0    38765.0   \n",
      "3332   4/1/2025  WS20X8RTGWB115   Eden Prarie        -1.0      274.0   \n",
      "2968  3/31/2025  BB3X5            Eden Prarie       100.0    24100.0   \n",
      "1016  3/31/2025             1208   West Fargo       -38.0     4575.0   \n",
      "2955  3/31/2025  DRSTICKERPACKET  SpringField       179.0    15500.0   \n",
      "\n",
      "      Difference  Variance   Planner  \n",
      "2957   7499980.0  99999.73  02SHPA    \n",
      "3410   5999916.0  71427.57  01SHPA    \n",
      "2956   2226910.0  24743.44  01PANA    \n",
      "545      21838.0 -21838.00  02HDWA    \n",
      "3411     24727.5   1099.00  01SHPA    \n",
      "2969     38665.0    386.65  02HDWA    \n",
      "3332       275.0   -275.00  02HDWA    \n",
      "2968     24000.0    240.00  02HDWA    \n",
      "1016      4613.0   -121.39  01HDWA    \n",
      "2955     15321.0     85.59  03HDWA    \n",
      "\n",
      "Number of records with negative StartCount: 138\n",
      "Examples of negative StartCount:\n",
      "          Date             Part       Branch  StartCount\n",
      "83   3/26/2025  2100D09           West Fargo        -8.0\n",
      "101  3/27/2025  E1419WPBFO138    Eden Prarie      -315.0\n",
      "221  3/27/2025  21820033RNC      Eden Prarie        -3.0\n",
      "234  3/27/2025  22520032LNC      Eden Prarie        -2.0\n",
      "235  3/27/2025  22520032RNC      Eden Prarie        -2.0\n",
      "\n",
      "Number of records with potential scientific notation Part numbers: 15\n",
      "Examples of potential scientific notation Part numbers:\n",
      "           Date      Part                     Description       Branch\n",
      "88    3/26/2025  2.10E+10  7FT TERABRONZE VINYL W/S         West Fargo\n",
      "89    3/26/2025  2.10E+11  8FT TERABRONZE VINYL W/S         West Fargo\n",
      "648   3/28/2025  1.60E+30  27  48  90  8FT EXT SPRINGS     Eden Prarie\n",
      "1374  3/31/2025  2.10E+21  18FT TERABRONZE VINYL W/S        West Fargo\n",
      "1679  3/31/2025  2.10E+10  7FT TERABRONZE VINYL W/S        Eden Prarie\n"
     ]
    }
   ],
   "execution_count": 13
  },
  {
   "cell_type": "code",
   "execution_count": null,
   "metadata": {},
   "outputs": [],
   "source": [],
   "id": "f7222d873bacbb6a"
  }
 ],
 "metadata": {
  "kernelspec": {
   "display_name": ".dashboard",
   "language": "python",
   "name": "python3"
  },
  "language_info": {
   "codemirror_mode": {
    "name": "ipython",
    "version": 3
   },
   "file_extension": ".py",
   "mimetype": "text/x-python",
   "name": "python",
   "nbconvert_exporter": "python",
   "pygments_lexer": "ipython3",
   "version": "3.13.2"
  }
 },
 "nbformat": 4,
 "nbformat_minor": 5
}
